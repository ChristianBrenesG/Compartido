{
 "cells": [
  {
   "cell_type": "markdown",
   "id": "2085a5d7-5cd5-467c-b0a1-766f0264c31e",
   "metadata": {},
   "source": [
    "# My Jupyter Notebook on IBM Watson Studio"
   ]
  },
  {
   "cell_type": "markdown",
   "id": "d7bd37cf-ce21-4b18-a54a-f6eac6777e5a",
   "metadata": {},
   "source": [
    "**Christian Brenes Garro**\n",
    "\n",
    "Data Scientist"
   ]
  },
  {
   "cell_type": "markdown",
   "id": "5328732e-e88f-4de6-9940-d78b5482f5fb",
   "metadata": {},
   "source": [
    "*I am interested in data science because I like to find solutions to problems and explore new data.*\n",
    "\n",
    "*I also like to create and develop reports with more traditional tools, it's so fun.*"
   ]
  },
  {
   "cell_type": "markdown",
   "id": "6b85743b-0f4d-4de0-a65b-ae4c773d156a",
   "metadata": {},
   "source": [
    "### In the next cell, my code wants to add 2 plus 3 ###"
   ]
  },
  {
   "cell_type": "code",
   "execution_count": 2,
   "id": "b9fa5626-6120-4832-ad47-429d9fc0bb4b",
   "metadata": {},
   "outputs": [
    {
     "name": "stdout",
     "output_type": "stream",
     "text": [
      "5\n"
     ]
    }
   ],
   "source": [
    "print(2+3)"
   ]
  },
  {
   "cell_type": "markdown",
   "id": "43435cbd-9507-4e32-b3fe-e4648511ae87",
   "metadata": {},
   "source": [
    "|Name|Lastname|Age|\n",
    "|:---|:---|:---:|\n",
    "| María | Rojas | 30 |\n",
    "| Andrés | Rojas | 35 |"
   ]
  },
  {
   "cell_type": "markdown",
   "id": "d2e3da3d-5db5-4030-a459-13a069b4a52b",
   "metadata": {},
   "source": [
    "* This is a list\n",
    "- Use - simbols\n",
    "+ And + simbols"
   ]
  },
  {
   "cell_type": "markdown",
   "id": "fa32d7e3-3489-40eb-9cc5-23e8e291ac38",
   "metadata": {},
   "source": [
    "1. The list also can\n",
    "2. Contain numbers\n",
    "3. Like this example"
   ]
  },
  {
   "cell_type": "markdown",
   "id": "0c8b3dfb-d7ef-409b-a0c1-4628dd6ad86a",
   "metadata": {},
   "source": [
    "***\n",
    "This is an example of horizontal rule\n",
    "***"
   ]
  },
  {
   "cell_type": "markdown",
   "id": "b5af167c-d8b4-45ff-a9cd-a61d959149f7",
   "metadata": {},
   "source": [
    "[Google's home page](https://www.google.com)"
   ]
  },
  {
   "cell_type": "code",
   "execution_count": null,
   "id": "200c11c6-21aa-49d0-b48a-6df0d41570ff",
   "metadata": {},
   "outputs": [],
   "source": []
  }
 ],
 "metadata": {
  "kernelspec": {
   "display_name": "Python",
   "language": "python",
   "name": "conda-env-python-py"
  },
  "language_info": {
   "codemirror_mode": {
    "name": "ipython",
    "version": 3
   },
   "file_extension": ".py",
   "mimetype": "text/x-python",
   "name": "python",
   "nbconvert_exporter": "python",
   "pygments_lexer": "ipython3",
   "version": "3.7.12"
  }
 },
 "nbformat": 4,
 "nbformat_minor": 5
}
